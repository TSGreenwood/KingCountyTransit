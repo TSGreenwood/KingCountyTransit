{
  "nbformat": 4,
  "nbformat_minor": 0,
  "metadata": {
    "colab": {
      "provenance": [],
      "authorship_tag": "ABX9TyNQGDGRC02REUaqQhHG8J1O",
      "include_colab_link": true
    },
    "kernelspec": {
      "name": "python3",
      "display_name": "Python 3"
    },
    "language_info": {
      "name": "python"
    }
  },
  "cells": [
    {
      "cell_type": "markdown",
      "metadata": {
        "id": "view-in-github",
        "colab_type": "text"
      },
      "source": [
        "<a href=\"https://colab.research.google.com/github/TSGreenwood/KingCountyTransit/blob/BusStopDimensionReduction/BusStopDimensionReduction.ipynb\" target=\"_parent\"><img src=\"https://colab.research.google.com/assets/colab-badge.svg\" alt=\"Open In Colab\"/></a>"
      ]
    },
    {
      "cell_type": "markdown",
      "source": [
        "I want to host an interactive Folium map on my website, and the bus stop GeoJSON file is too hefty to render efficiently, so I'm going to work with dimension reduction."
      ],
      "metadata": {
        "id": "mOsNKMRP-Zx6"
      }
    },
    {
      "cell_type": "code",
      "execution_count": 1,
      "metadata": {
        "id": "92eUD_Qeo0FY",
        "colab": {
          "base_uri": "https://localhost:8080/"
        },
        "outputId": "9cc76ed7-2dc5-49d7-acb9-a1e01f3bceed"
      },
      "outputs": [
        {
          "output_type": "stream",
          "name": "stdout",
          "text": [
            "Mounted at /content/drive\n"
          ]
        }
      ],
      "source": [
        "import geopandas as gpd\n",
        "import folium\n",
        "from google.colab import drive\n",
        "drive.mount('/content/drive')"
      ]
    },
    {
      "cell_type": "code",
      "source": [
        "# I want to host an interactive Folium map on my website, and the bus stop GeoJSON file is too hefty to render efficiently, so I'm going to work with dimension reduction."
      ],
      "metadata": {
        "id": "KmVNNQID9tjf"
      },
      "execution_count": null,
      "outputs": []
    }
  ]
}