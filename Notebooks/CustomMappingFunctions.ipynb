{
 "cells": [
  {
   "cell_type": "code",
   "execution_count": null,
   "metadata": {},
   "outputs": [],
   "source": []
  },
  {
   "cell_type": "markdown",
   "metadata": {},
   "source": [
    "Library of custom functions "
   ]
  },
  {
   "cell_type": "code",
   "execution_count": null,
   "metadata": {},
   "outputs": [],
   "source": [
    "import geopandas as gpd\n",
    "import folium\n",
    "from folium.plugins import MarkerCluster\n",
    "\n",
    "from folium import plugins"
   ]
  },
  {
   "cell_type": "code",
   "execution_count": null,
   "metadata": {},
   "outputs": [],
   "source": [
    "# Create King County basemap\n",
    "\n",
    "def create_kc_map(map_name='base_map', location=[47.608013, -122.335167],\n",
    "                    zoom_start=12, max_zoom=25,\n",
    "                    tiles='https://server.arcgisonline.com/ArcGIS/rest/services/World_Imagery/MapServer/tile/{z}/{y}/{x}',\n",
    "                    attr='Esri', overlay=False, control=True):\n",
    "\n",
    "    m = folium.Map(location=location, zoom_start=zoom_start, max_zoom=max_zoom, control_scale=True)\n",
    "    base_layer = folium.TileLayer(tiles=tiles, attr=attr, name=map_name, overlay=overlay, control=control)\n",
    "    base_layer.add_to(m)"
   ]
  },
  {
   "cell_type": "code",
   "execution_count": null,
   "metadata": {},
   "outputs": [],
   "source": [
    "#Put King County express routes on the map\n",
    "\n",
    "def add_express_routes(m):\n",
    "    folium.GeoJson(\n",
    "        express_routes_gdf,\n",
    "        name='Express Routes',\n",
    "        style_function=lambda x: {'color': '#32CD32', 'weight': 3, 'opacity': 0.7}\n",
    "    ).add_to(m)"
   ]
  },
  {
   "cell_type": "code",
   "execution_count": null,
   "metadata": {},
   "outputs": [],
   "source": [
    "#Put King County local routes on the map\n",
    "\n",
    "def add_local_routes(m):\n",
    "    folium.GeoJson(\n",
    "        local_routes_gdf,\n",
    "        name='Local Routes',\n",
    "        style_function=lambda x: {'color': 'darkred', 'weight': 2, 'opacity': 0.7}\n",
    "    ).add_to(m)"
   ]
  },
  {
   "cell_type": "code",
   "execution_count": null,
   "metadata": {},
   "outputs": [],
   "source": [
    "# Add legend for route types\n",
    "\n",
    "def add_route_legend(map_object):\n",
    "  legend_html = '''\n",
    "    Route Type:\n",
    "        Express   \n",
    "        Local   \n",
    "  \n",
    "  '''\n",
    "\n",
    "  legend = folium.Html(legend_html, script=True)\n",
    "  folium.Element(legend.render()).add_to(map_object)"
   ]
  },
  {
   "cell_type": "code",
   "execution_count": null,
   "metadata": {},
   "outputs": [],
   "source": [
    "# Add bus stop markers\n",
    "\n",
    "def mark_bus_stops(map_object, bus_stops_gdf):\n",
    "  for _, row in bus_stops_gdf.iterrows():\n",
    "    folium.Marker(\n",
    "        location=[row['YCOORD'], row['XCOORD']],\n",
    "        icon=folium.Icon(icon='bus', prefix='fa', color='orange')\n",
    "    ).add_to(map_object)"
   ]
  },
  {
   "cell_type": "code",
   "execution_count": null,
   "metadata": {},
   "outputs": [],
   "source": [
    "# Add heatmap for zooming out of the bus stops\n",
    "\n",
    "def create_heatmap_bus_stops(map_object, bus_stops_gdf):\n",
    "  heatmap_data = bus_stops_gdf[['YCOORD', 'XCOORD']].values.tolist()\n",
    "  HeatMap(heatmap_data).add_to(map_object)"
   ]
  },
  {
   "cell_type": "code",
   "execution_count": null,
   "metadata": {},
   "outputs": [],
   "source": [
    "# Add zipcode overlay\n",
    "\n",
    "def display_zipcode_overlay(map_object, zip_codes_gdf, attribute='TOTAL_BUS_STOPS'):\n",
    "\n",
    "    # Create a tooltip that dynamically fetches the ZIPCODE and the specified attribute\n",
    "    folium.GeoJson(\n",
    "        zip_codes_gdf,\n",
    "        style_function=lambda x: {'color': 'blue', 'weight': 2, 'opacity': 0.5},\n",
    "        tooltip=folium.GeoJsonTooltip(fields=['ZIPCODE', attribute],\n",
    "                                      aliases=['ZIP Code:', f'{attribute}:'],\n",
    "                                      localize=True)\n",
    "    ).add_to(map_object)"
   ]
  },
  {
   "cell_type": "code",
   "execution_count": null,
   "metadata": {},
   "outputs": [],
   "source": []
  },
  {
   "cell_type": "markdown",
   "metadata": {},
   "source": []
  }
 ],
 "metadata": {
  "language_info": {
   "name": "python"
  }
 },
 "nbformat": 4,
 "nbformat_minor": 2
}
